{
 "cells": [
  {
   "cell_type": "code",
   "execution_count": 6,
   "id": "ae21f2bb",
   "metadata": {},
   "outputs": [
    {
     "name": "stdout",
     "output_type": "stream",
     "text": [
      "Requirement already satisfied: telethon in c:\\users\\hp\\10 acadamy projects\\new folder (4)\\amharic-ecommerce-scraper\\.venv\\lib\\site-packages (1.40.0)\n",
      "Requirement already satisfied: pandas in c:\\users\\hp\\10 acadamy projects\\new folder (4)\\amharic-ecommerce-scraper\\.venv\\lib\\site-packages (2.3.0)\n",
      "Requirement already satisfied: pyaes in c:\\users\\hp\\10 acadamy projects\\new folder (4)\\amharic-ecommerce-scraper\\.venv\\lib\\site-packages (from telethon) (1.6.1)\n",
      "Requirement already satisfied: rsa in c:\\users\\hp\\10 acadamy projects\\new folder (4)\\amharic-ecommerce-scraper\\.venv\\lib\\site-packages (from telethon) (4.9.1)\n",
      "Requirement already satisfied: numpy>=1.26.0 in c:\\users\\hp\\10 acadamy projects\\new folder (4)\\amharic-ecommerce-scraper\\.venv\\lib\\site-packages (from pandas) (2.3.0)\n",
      "Requirement already satisfied: python-dateutil>=2.8.2 in c:\\users\\hp\\10 acadamy projects\\new folder (4)\\amharic-ecommerce-scraper\\.venv\\lib\\site-packages (from pandas) (2.9.0.post0)\n",
      "Requirement already satisfied: pytz>=2020.1 in c:\\users\\hp\\10 acadamy projects\\new folder (4)\\amharic-ecommerce-scraper\\.venv\\lib\\site-packages (from pandas) (2025.2)\n",
      "Requirement already satisfied: tzdata>=2022.7 in c:\\users\\hp\\10 acadamy projects\\new folder (4)\\amharic-ecommerce-scraper\\.venv\\lib\\site-packages (from pandas) (2025.2)\n",
      "Requirement already satisfied: six>=1.5 in c:\\users\\hp\\10 acadamy projects\\new folder (4)\\amharic-ecommerce-scraper\\.venv\\lib\\site-packages (from python-dateutil>=2.8.2->pandas) (1.17.0)\n",
      "Requirement already satisfied: pyasn1>=0.1.3 in c:\\users\\hp\\10 acadamy projects\\new folder (4)\\amharic-ecommerce-scraper\\.venv\\lib\\site-packages (from rsa->telethon) (0.6.1)\n"
     ]
    }
   ],
   "source": [
    "\n",
    "!pip install telethon pandas "
   ]
  },
  {
   "cell_type": "code",
   "execution_count": 9,
   "id": "7edac923",
   "metadata": {},
   "outputs": [],
   "source": [
    "import pandas as pd\n",
    "import sys  \n",
    "import os\n",
    "import nest_asyncio\n",
    "import numpy as np\n",
    "from telethon.sync import TelegramClient\n"
   ]
  },
  {
   "cell_type": "markdown",
   "id": "3074d4a5",
   "metadata": {},
   "source": [
    "# Selecting 5 channels nand Scrape messages "
   ]
  },
  {
   "cell_type": "code",
   "execution_count": 11,
   "id": "ef200e18",
   "metadata": {},
   "outputs": [
    {
     "name": "stdout",
     "output_type": "stream",
     "text": [
      "Signed in successfully as M Z; remember to not break the ToS or you will risk an account ban!\n",
      "Scraping @@ZemenExpress...\n",
      "Scraping @@meneshayeofficial...\n",
      "Scraping @@ethio_brand_collection...\n",
      "Scraping @@Shewabrand...\n",
      "Scraping @@qnashcom...\n",
      "✅ Scraping complete. Data saved to telegram_vendor_data.csv\n"
     ]
    }
   ],
   "source": [
    "\n",
    "\n",
    "# IMPORTS\n",
    "from telethon.sync import TelegramClient\n",
    "from telethon.errors import SessionPasswordNeededError\n",
    "import pandas as pd\n",
    "import asyncio\n",
    "\n",
    "# ====== YOUR CREDENTIALS ======\n",
    "api_id = 23923281\n",
    "api_hash = '8baea265856f74f137408a36b2aa08d3'\n",
    "phone_number = '+251928764780'  \n",
    "\n",
    "# ====== CHANNELS TO SCRAPE ======\n",
    "channel_usernames = [\n",
    "    'ZemenExpress',\n",
    "    'meneshayeofficial',\n",
    "    'ethio_brand_collection',\n",
    "    'Shewabrand',\n",
    "    'qnashcom'\n",
    "]\n",
    "\n",
    "# ====== SCRAPER FUNCTION ======\n",
    "async def scrape_channel(client, username, limit=200):\n",
    "    print(f\"Scraping @{username}...\")\n",
    "    messages = []\n",
    "\n",
    "    try:\n",
    "        async for message in client.iter_messages(username, limit=limit):\n",
    "            if message.message:\n",
    "                messages.append({\n",
    "                    'channel': username,\n",
    "                    'message_id': message.id,\n",
    "                    'text': message.message,\n",
    "                    'timestamp': message.date,\n",
    "                    'views': message.views,\n",
    "                    'has_media': 'Yes' if message.media else 'No'\n",
    "                })\n",
    "    except Exception as e:\n",
    "        print(f\"Error scraping @{username}: {e}\")\n",
    "    \n",
    "    return pd.DataFrame(messages)\n",
    "\n",
    "# ====== MAIN SCRIPT ======\n",
    "async def main():\n",
    "    async with TelegramClient('ecom_session', api_id, api_hash) as client:\n",
    "        all_dfs = []\n",
    "        for channel in channel_usernames:\n",
    "            df = await scrape_channel(client, f\"@{channel}\")\n",
    "            all_dfs.append(df)\n",
    "        \n",
    "        # Combine and save\n",
    "        final_df = pd.concat(all_dfs, ignore_index=True)\n",
    "        final_df.to_csv(\"telegram_vendor_data.csv\", index=False)\n",
    "        print(\"✅ Scraping complete. Data saved to telegram_vendor_data.csv\")\n",
    "\n",
    "# ====== RUN SCRIPT (Notebook-friendly) ======\n",
    "import nest_asyncio\n",
    "nest_asyncio.apply()\n",
    "\n",
    "await main()\n"
   ]
  },
  {
   "cell_type": "code",
   "execution_count": null,
   "metadata": {},
   "outputs": [],
   "source": []
  }
 ],
 "metadata": {
  "kernelspec": {
   "display_name": ".venv",
   "language": "python",
   "name": "python3"
  },
  "language_info": {
   "codemirror_mode": {
    "name": "ipython",
    "version": 3
   },
   "file_extension": ".py",
   "mimetype": "text/x-python",
   "name": "python",
   "nbconvert_exporter": "python",
   "pygments_lexer": "ipython3",
   "version": "3.13.4"
  }
 },
 "nbformat": 4,
 "nbformat_minor": 5
}
