{
 "cells": [
  {
   "cell_type": "code",
   "execution_count": 11,
   "id": "fa918da4",
   "metadata": {},
   "outputs": [
    {
     "name": "stdout",
     "output_type": "stream",
     "text": [
      "Requirement already satisfied: python-dotenv in c:\\users\\hp\\appdata\\local\\programs\\python\\python313\\lib\\site-packages (1.1.0)\n"
     ]
    }
   ],
   "source": [
    "!pip install python-dotenv\n",
    "\n"
   ]
  },
  {
   "cell_type": "code",
   "execution_count": 2,
   "id": "7edac923",
   "metadata": {},
   "outputs": [],
   "source": [
    "import pandas as pd\n",
    "import sys  \n",
    "import os\n",
    "import nest_asyncio\n",
    "import numpy as np\n",
    "from telethon.sync import TelegramClient\n",
    "import re\n",
    "import emoji\n",
    "import csv\n",
    "from dotenv import load_dotenv\n"
   ]
  },
  {
   "cell_type": "markdown",
   "id": "3074d4a5",
   "metadata": {},
   "source": [
    "# Selecting 5 channels nand Scrape messages "
   ]
  },
  {
   "cell_type": "code",
   "execution_count": 15,
   "id": "ef200e18",
   "metadata": {},
   "outputs": [
    {
     "name": "stdout",
     "output_type": "stream",
     "text": [
      "Scraping channel: ZemenExpress ...\n",
      "✅ Completed scraping ZemenExpress\n",
      "Scraping channel: meneshayeofficial ...\n",
      "✅ Completed scraping meneshayeofficial\n",
      "Scraping channel: ethio_brand_collection ...\n",
      "✅ Completed scraping ethio_brand_collection\n",
      "Scraping channel: Shewabrand ...\n",
      "✅ Completed scraping Shewabrand\n",
      "Scraping channel: qnashcom ...\n",
      "✅ Completed scraping qnashcom\n"
     ]
    }
   ],
   "source": [
    "# Allow nested asyncio loops (needed in notebooks like Jupyter)\n",
    "nest_asyncio.apply()\n",
    "\n",
    "# Load environment variables from .env file\n",
    "load_dotenv('.env')\n",
    "\n",
    "# Retrieve API credentials\n",
    "API_ID = os.getenv('TG_API_ID')\n",
    "API_HASH = os.getenv('TG_API_HASH')\n",
    "\n",
    "if API_ID is None:\n",
    "    raise ValueError(\"API_ID not found in environment variables\")\n",
    "else:\n",
    "    API_ID = int(API_ID)\n",
    "\n",
    "if API_HASH is None:\n",
    "    raise ValueError(\"API_HASH not found in environment variables\")\n",
    "\n",
    "# Async function to fetch messages and media from a channel\n",
    "async def fetch_channel_messages(client, channel_handle, csv_writer, download_folder):\n",
    "    channel_entity = await client.get_entity(channel_handle)\n",
    "    channel_name = channel_entity.title\n",
    "    async for msg in client.iter_messages(channel_entity, limit=10000):\n",
    "        media_file_path = None\n",
    "        if msg.media and hasattr(msg.media, 'photo'):\n",
    "            filename = f\"{channel_handle}_{msg.id}.jpg\"\n",
    "            media_file_path = os.path.join(download_folder, filename)\n",
    "            await client.download_media(msg.media, media_file_path)\n",
    "\n",
    "        csv_writer.writerow([\n",
    "            channel_name,\n",
    "            channel_handle,\n",
    "            msg.id,\n",
    "            msg.message,\n",
    "            msg.date,\n",
    "            media_file_path\n",
    "        ])\n",
    "\n",
    "# Main async function to run the scraper\n",
    "async def run_scraper():\n",
    "    client = TelegramClient('session_scraper', API_ID, API_HASH)\n",
    "    await client.start()\n",
    "\n",
    "    # Define where to save data and images\n",
    "    base_folder = r\"C:\\Users\\HP\\10 Acadamy PRojects\\New folder (4)\\amharic-ecommerce-scraper\\data\"\n",
    "    media_folder = os.path.join(base_folder, 'downloaded_images')\n",
    "    os.makedirs(media_folder, exist_ok=True)\n",
    "\n",
    "    csv_path = os.path.join(base_folder, 'output_telegram_data.csv')\n",
    "\n",
    "    with open(csv_path, mode='w', newline='', encoding='utf-8') as csv_file:\n",
    "        writer = csv.writer(csv_file)\n",
    "        writer.writerow(['Channel Title', 'Channel Handle', 'Message ID', 'Content', 'Timestamp', 'Media File'])\n",
    "\n",
    "        target_channels = [\n",
    "            'ZemenExpress',\n",
    "            'meneshayeofficial',\n",
    "            'ethio_brand_collection',\n",
    "            'Shewabrand',\n",
    "            'qnashcom'\n",
    "        ]\n",
    "\n",
    "        for channel in target_channels:\n",
    "            print(f\"Scraping channel: {channel} ...\")\n",
    "            await fetch_channel_messages(client, channel, writer, media_folder)\n",
    "            print(f\"✅ Completed scraping {channel}\")\n",
    "\n",
    "    await client.disconnect()\n",
    "\n",
    "# Run the scraper in a notebook or async environment\n",
    "await run_scraper()\n"
   ]
  },
  {
   "cell_type": "markdown",
   "id": "ada3080a",
   "metadata": {},
   "source": [
    "# Cleaning The Dataset"
   ]
  },
  {
   "cell_type": "code",
   "execution_count": 7,
   "id": "683cb13b",
   "metadata": {},
   "outputs": [
    {
     "name": "stdout",
     "output_type": "stream",
     "text": [
      "✅ Cleaned data saved to:\n",
      "C:\\Users\\HP\\10 Acadamy PRojects\\New folder (4)\\amharic-ecommerce-scraper\\data\\output_telegram_data_cleaned.csv\n"
     ]
    }
   ],
   "source": [
    "\n",
    "# Paths\n",
    "base_dir = r\"C:\\Users\\HP\\10 Acadamy PRojects\\New folder (4)\\amharic-ecommerce-scraper\\data\"\n",
    "input_file = os.path.join(base_dir, \"output_telegram_data.csv\")\n",
    "output_file = os.path.join(base_dir, \"output_telegram_data_cleaned.csv\")\n",
    "\n",
    "# Load data\n",
    "df = pd.read_csv(input_file, encoding='utf-8')\n",
    "\n",
    "\n",
    "# Clean Amharic text\n",
    "def clean_amharic_text(text):\n",
    "    if pd.isnull(text):\n",
    "        return \"\"\n",
    "    \n",
    "    text = emoji.replace_emoji(text, replace='')  # Remove emojis\n",
    "    text = re.sub(r\"http\\S+|www\\S+|https\\S+\", '', text)  # URLs\n",
    "    text = re.sub(r\"[A-Za-z]\", '', text)  # English\n",
    "    text = re.sub(r\"[^\\u1200-\\u137F\\u1380-\\u139F\\u2D80-\\u2DDF0-9፡።፣፤፥፦፧፨\\s]\", '', text)\n",
    "    text = re.sub(r\"\\s+\", \" \", text)  # Normalize spaces\n",
    "    return text.strip()\n",
    "\n",
    "# Tokenizer\n",
    "def tokenize_text(text):\n",
    "    return text.split() if text else []\n",
    "\n",
    "# Apply\n",
    "df['clean_text'] = df['Content'].apply(clean_amharic_text)\n",
    "df['tokens'] = df['clean_text'].apply(tokenize_text)\n",
    "\n",
    "# Save result\n",
    "df.to_csv(output_file, index=False, encoding='utf-8-sig')\n",
    "print(f\"✅ Cleaned data saved to:\\n{output_file}\")\n"
   ]
  },
  {
   "cell_type": "code",
   "execution_count": 21,
   "id": "8a45bdbc",
   "metadata": {},
   "outputs": [
    {
     "data": {
      "application/vnd.microsoft.datawrangler.viewer.v0+json": {
       "columns": [
        {
         "name": "index",
         "rawType": "int64",
         "type": "integer"
        },
        {
         "name": "Channel Title",
         "rawType": "object",
         "type": "string"
        },
        {
         "name": "Channel Handle",
         "rawType": "object",
         "type": "string"
        },
        {
         "name": "Message ID",
         "rawType": "int64",
         "type": "integer"
        },
        {
         "name": "Content",
         "rawType": "object",
         "type": "unknown"
        },
        {
         "name": "Timestamp",
         "rawType": "object",
         "type": "string"
        },
        {
         "name": "Media File",
         "rawType": "object",
         "type": "unknown"
        },
        {
         "name": "clean_text",
         "rawType": "object",
         "type": "unknown"
        },
        {
         "name": "tokens",
         "rawType": "object",
         "type": "string"
        }
       ],
       "ref": "dd79322d-5278-42ff-a214-d4f04c45d454",
       "rows": [
        [
         "0",
         "Zemen Express®",
         "ZemenExpress",
         "6982",
         "💥💥...................................💥💥\n\n📌Imitation Volcano Humidifier with LED Light\n\n👍በኤሌክትሪክ:የሚሰራ ለቤት መልካም መዓዛን የሚሰጥ\n\nዋጋ፦  💲🏷  1400 ብር\n\n📍ውስን ፍሬ ነው ያለን🔥🔥🔥\n\n🏢 አድራሻ👉\n\n📍♦️#መገናኛ_መሰረት_ደፋር_ሞል_ሁለተኛ_ፎቅ ቢሮ ቁ. S05/S06\n\n\n     💧💧💧💧\n\n\n    📲 0902660722\n    📲 0928460606 \n\n🔖\n💬በTelegram ለማዘዝ ⤵️ ይጠቀሙ🔽\n\n@zemencallcenter \n\n@zemenexpressadmin\n\nለተጨማሪ ማብራሪያ የቴሌግራም ገፃችን⤵️\nhttps://telegram.me/zemenexpress\n\n💥💥...................................💥💥",
         "2025-06-18 06:01:10+00:00",
         null,
         "በኤሌክትሪክየሚሰራ ለቤት መልካም መዓዛን የሚሰጥ ዋጋ፦ 1400 ብር ውስን ፍሬ ነው ያለን አድራሻ መገናኛመሰረትደፋርሞልሁለተኛፎቅ ቢሮ ቁ 0506 0902660722 0928460606 በ ለማዘዝ ይጠቀሙ ለተጨማሪ ማብራሪያ የቴሌግራም ገፃችን",
         "['በኤሌክትሪክየሚሰራ', 'ለቤት', 'መልካም', 'መዓዛን', 'የሚሰጥ', 'ዋጋ፦', '1400', 'ብር', 'ውስን', 'ፍሬ', 'ነው', 'ያለን', 'አድራሻ', 'መገናኛመሰረትደፋርሞልሁለተኛፎቅ', 'ቢሮ', 'ቁ', '0506', '0902660722', '0928460606', 'በ', 'ለማዘዝ', 'ይጠቀሙ', 'ለተጨማሪ', 'ማብራሪያ', 'የቴሌግራም', 'ገፃችን']"
        ],
        [
         "1",
         "Zemen Express®",
         "ZemenExpress",
         "6981",
         "💥💥...................................💥💥\n\n📌 Baby Carrier\n\n👍በፈለጉት አቅጣጫ ልጅዎን  በምቾት ማዘል ያስችልዎታል\n\nዋጋ፦  💲🏷  2400 ብር\n\n📍ውስን ፍሬ ነው ያለን🔥🔥🔥\n\n🏢 አድራሻ👉\n\n📍♦️#መገናኛ_መሰረት_ደፋር_ሞል_ሁለተኛ_ፎቅ ቢሮ ቁ. S05/S06\n\n\n     💧💧💧💧\n\n\n    📲 0902660722\n    📲 0928460606 \n\n🔖\n💬በTelegram ለማዘዝ ⤵️ ይጠቀሙ🔽\n\n@zemencallcenter \n\n@zemenexpressadmin\n\nለተጨማሪ ማብራሪያ የቴሌግራም ገፃችን⤵️\nhttps://telegram.me/zemenexpress\n\n💥💥...................................💥💥",
         "2025-06-16 12:21:00+00:00",
         null,
         "በፈለጉት አቅጣጫ ልጅዎን በምቾት ማዘል ያስችልዎታል ዋጋ፦ 2400 ብር ውስን ፍሬ ነው ያለን አድራሻ መገናኛመሰረትደፋርሞልሁለተኛፎቅ ቢሮ ቁ 0506 0902660722 0928460606 በ ለማዘዝ ይጠቀሙ ለተጨማሪ ማብራሪያ የቴሌግራም ገፃችን",
         "['በፈለጉት', 'አቅጣጫ', 'ልጅዎን', 'በምቾት', 'ማዘል', 'ያስችልዎታል', 'ዋጋ፦', '2400', 'ብር', 'ውስን', 'ፍሬ', 'ነው', 'ያለን', 'አድራሻ', 'መገናኛመሰረትደፋርሞልሁለተኛፎቅ', 'ቢሮ', 'ቁ', '0506', '0902660722', '0928460606', 'በ', 'ለማዘዝ', 'ይጠቀሙ', 'ለተጨማሪ', 'ማብራሪያ', 'የቴሌግራም', 'ገፃችን']"
        ],
        [
         "2",
         "Zemen Express®",
         "ZemenExpress",
         "6980",
         null,
         "2025-06-16 05:11:57+00:00",
         "C:\\Users\\HP\\10 Acadamy PRojects\\New folder (4)\\amharic-ecommerce-scraper\\data\\downloaded_images\\ZemenExpress_6980.jpg",
         null,
         "[]"
        ],
        [
         "3",
         "Zemen Express®",
         "ZemenExpress",
         "6979",
         null,
         "2025-06-16 05:11:57+00:00",
         "C:\\Users\\HP\\10 Acadamy PRojects\\New folder (4)\\amharic-ecommerce-scraper\\data\\downloaded_images\\ZemenExpress_6979.jpg",
         null,
         "[]"
        ],
        [
         "4",
         "Zemen Express®",
         "ZemenExpress",
         "6978",
         null,
         "2025-06-16 05:11:57+00:00",
         "C:\\Users\\HP\\10 Acadamy PRojects\\New folder (4)\\amharic-ecommerce-scraper\\data\\downloaded_images\\ZemenExpress_6978.jpg",
         null,
         "[]"
        ]
       ],
       "shape": {
        "columns": 8,
        "rows": 5
       }
      },
      "text/html": [
       "<div>\n",
       "<style scoped>\n",
       "    .dataframe tbody tr th:only-of-type {\n",
       "        vertical-align: middle;\n",
       "    }\n",
       "\n",
       "    .dataframe tbody tr th {\n",
       "        vertical-align: top;\n",
       "    }\n",
       "\n",
       "    .dataframe thead th {\n",
       "        text-align: right;\n",
       "    }\n",
       "</style>\n",
       "<table border=\"1\" class=\"dataframe\">\n",
       "  <thead>\n",
       "    <tr style=\"text-align: right;\">\n",
       "      <th></th>\n",
       "      <th>Channel Title</th>\n",
       "      <th>Channel Handle</th>\n",
       "      <th>Message ID</th>\n",
       "      <th>Content</th>\n",
       "      <th>Timestamp</th>\n",
       "      <th>Media File</th>\n",
       "      <th>clean_text</th>\n",
       "      <th>tokens</th>\n",
       "    </tr>\n",
       "  </thead>\n",
       "  <tbody>\n",
       "    <tr>\n",
       "      <th>0</th>\n",
       "      <td>Zemen Express®</td>\n",
       "      <td>ZemenExpress</td>\n",
       "      <td>6982</td>\n",
       "      <td>💥💥...................................💥💥\\n\\n📌Im...</td>\n",
       "      <td>2025-06-18 06:01:10+00:00</td>\n",
       "      <td>NaN</td>\n",
       "      <td>በኤሌክትሪክየሚሰራ ለቤት መልካም መዓዛን የሚሰጥ ዋጋ፦ 1400 ብር ውስን...</td>\n",
       "      <td>['በኤሌክትሪክየሚሰራ', 'ለቤት', 'መልካም', 'መዓዛን', 'የሚሰጥ',...</td>\n",
       "    </tr>\n",
       "    <tr>\n",
       "      <th>1</th>\n",
       "      <td>Zemen Express®</td>\n",
       "      <td>ZemenExpress</td>\n",
       "      <td>6981</td>\n",
       "      <td>💥💥...................................💥💥\\n\\n📌 B...</td>\n",
       "      <td>2025-06-16 12:21:00+00:00</td>\n",
       "      <td>NaN</td>\n",
       "      <td>በፈለጉት አቅጣጫ ልጅዎን በምቾት ማዘል ያስችልዎታል ዋጋ፦ 2400 ብር ው...</td>\n",
       "      <td>['በፈለጉት', 'አቅጣጫ', 'ልጅዎን', 'በምቾት', 'ማዘል', 'ያስችል...</td>\n",
       "    </tr>\n",
       "    <tr>\n",
       "      <th>2</th>\n",
       "      <td>Zemen Express®</td>\n",
       "      <td>ZemenExpress</td>\n",
       "      <td>6980</td>\n",
       "      <td>NaN</td>\n",
       "      <td>2025-06-16 05:11:57+00:00</td>\n",
       "      <td>C:\\Users\\HP\\10 Acadamy PRojects\\New folder (4)...</td>\n",
       "      <td>NaN</td>\n",
       "      <td>[]</td>\n",
       "    </tr>\n",
       "    <tr>\n",
       "      <th>3</th>\n",
       "      <td>Zemen Express®</td>\n",
       "      <td>ZemenExpress</td>\n",
       "      <td>6979</td>\n",
       "      <td>NaN</td>\n",
       "      <td>2025-06-16 05:11:57+00:00</td>\n",
       "      <td>C:\\Users\\HP\\10 Acadamy PRojects\\New folder (4)...</td>\n",
       "      <td>NaN</td>\n",
       "      <td>[]</td>\n",
       "    </tr>\n",
       "    <tr>\n",
       "      <th>4</th>\n",
       "      <td>Zemen Express®</td>\n",
       "      <td>ZemenExpress</td>\n",
       "      <td>6978</td>\n",
       "      <td>NaN</td>\n",
       "      <td>2025-06-16 05:11:57+00:00</td>\n",
       "      <td>C:\\Users\\HP\\10 Acadamy PRojects\\New folder (4)...</td>\n",
       "      <td>NaN</td>\n",
       "      <td>[]</td>\n",
       "    </tr>\n",
       "  </tbody>\n",
       "</table>\n",
       "</div>"
      ],
      "text/plain": [
       "    Channel Title Channel Handle  Message ID  \\\n",
       "0  Zemen Express®   ZemenExpress        6982   \n",
       "1  Zemen Express®   ZemenExpress        6981   \n",
       "2  Zemen Express®   ZemenExpress        6980   \n",
       "3  Zemen Express®   ZemenExpress        6979   \n",
       "4  Zemen Express®   ZemenExpress        6978   \n",
       "\n",
       "                                             Content  \\\n",
       "0  💥💥...................................💥💥\\n\\n📌Im...   \n",
       "1  💥💥...................................💥💥\\n\\n📌 B...   \n",
       "2                                                NaN   \n",
       "3                                                NaN   \n",
       "4                                                NaN   \n",
       "\n",
       "                   Timestamp  \\\n",
       "0  2025-06-18 06:01:10+00:00   \n",
       "1  2025-06-16 12:21:00+00:00   \n",
       "2  2025-06-16 05:11:57+00:00   \n",
       "3  2025-06-16 05:11:57+00:00   \n",
       "4  2025-06-16 05:11:57+00:00   \n",
       "\n",
       "                                          Media File  \\\n",
       "0                                                NaN   \n",
       "1                                                NaN   \n",
       "2  C:\\Users\\HP\\10 Acadamy PRojects\\New folder (4)...   \n",
       "3  C:\\Users\\HP\\10 Acadamy PRojects\\New folder (4)...   \n",
       "4  C:\\Users\\HP\\10 Acadamy PRojects\\New folder (4)...   \n",
       "\n",
       "                                          clean_text  \\\n",
       "0  በኤሌክትሪክየሚሰራ ለቤት መልካም መዓዛን የሚሰጥ ዋጋ፦ 1400 ብር ውስን...   \n",
       "1  በፈለጉት አቅጣጫ ልጅዎን በምቾት ማዘል ያስችልዎታል ዋጋ፦ 2400 ብር ው...   \n",
       "2                                                NaN   \n",
       "3                                                NaN   \n",
       "4                                                NaN   \n",
       "\n",
       "                                              tokens  \n",
       "0  ['በኤሌክትሪክየሚሰራ', 'ለቤት', 'መልካም', 'መዓዛን', 'የሚሰጥ',...  \n",
       "1  ['በፈለጉት', 'አቅጣጫ', 'ልጅዎን', 'በምቾት', 'ማዘል', 'ያስችል...  \n",
       "2                                                 []  \n",
       "3                                                 []  \n",
       "4                                                 []  "
      ]
     },
     "execution_count": 21,
     "metadata": {},
     "output_type": "execute_result"
    }
   ],
   "source": [
    "df = pd.read_csv(\"C:/Users/HP/10 Acadamy PRojects/New folder (4)/amharic-ecommerce-scraper/data/output_telegram_data_cleaned.csv\")\n",
    "df.head()"
   ]
  },
  {
   "cell_type": "markdown",
   "id": "f69ffc89",
   "metadata": {},
   "source": [
    "# Selecting 50 Massages from the DF"
   ]
  },
  {
   "cell_type": "code",
   "execution_count": 13,
   "id": "bb86d4aa",
   "metadata": {},
   "outputs": [
    {
     "name": "stdout",
     "output_type": "stream",
     "text": [
      "✅ Filtered 50 messages and saved to:\n",
      "C:\\Users\\HP\\10 Acadamy PRojects\\New folder (4)\\amharic-ecommerce-scraper\\data\\ner_labeling_sample.csv\n"
     ]
    }
   ],
   "source": [
    "import pandas as pd\n",
    "import os\n",
    "\n",
    "# Load cleaned data\n",
    "base_dir = r\"C:\\Users\\HP\\10 Acadamy PRojects\\New folder (4)\\amharic-ecommerce-scraper\\data\"\n",
    "input_file = os.path.join(base_dir, \"output_telegram_data_cleaned.csv\")\n",
    "df = pd.read_csv(input_file)\n",
    "\n",
    "# Define keyword lists\n",
    "price_keywords = ['ብር', 'ዋጋ', 'በ']\n",
    "product_keywords = ['ልጅ', 'ሻርተ', 'እቃ', 'ቦትል', 'ኩባያ']\n",
    "location_keywords = ['አዲስ', 'ቦሌ', 'ሀዋሳ', 'መጫኛ', 'ትኩሳት']\n",
    "\n",
    "# Combine them\n",
    "all_keywords = price_keywords + product_keywords + location_keywords\n",
    "\n",
    "# Function to check if any keyword exists in text\n",
    "def contains_keywords(text, keywords):\n",
    "    return any(kw in str(text) for kw in keywords)\n",
    "\n",
    "# Filter rows with relevant content\n",
    "filtered_df = df[df['clean_text'].apply(lambda x: contains_keywords(x, all_keywords))]\n",
    "\n",
    "# Limit to 50 messages\n",
    "filtered_sample = filtered_df.sample(n=50, random_state=42)\n",
    "\n",
    "# Save\n",
    "output_sample_path = os.path.join(base_dir, \"ner_labeling_sample.csv\")\n",
    "filtered_sample.to_csv(output_sample_path, index=False, encoding='utf-8-sig')\n",
    "\n",
    "print(f\"✅ Filtered 50 messages and saved to:\\n{output_sample_path}\")\n"
   ]
  },
  {
   "cell_type": "code",
   "execution_count": 19,
   "id": "d7df4848",
   "metadata": {},
   "outputs": [
    {
     "data": {
      "application/vnd.microsoft.datawrangler.viewer.v0+json": {
       "columns": [
        {
         "name": "index",
         "rawType": "int64",
         "type": "integer"
        },
        {
         "name": "Channel Title",
         "rawType": "object",
         "type": "string"
        },
        {
         "name": "Channel Handle",
         "rawType": "object",
         "type": "string"
        },
        {
         "name": "Message ID",
         "rawType": "int64",
         "type": "integer"
        },
        {
         "name": "Content",
         "rawType": "object",
         "type": "string"
        },
        {
         "name": "Timestamp",
         "rawType": "object",
         "type": "string"
        },
        {
         "name": "Media File",
         "rawType": "object",
         "type": "unknown"
        },
        {
         "name": "clean_text",
         "rawType": "object",
         "type": "string"
        },
        {
         "name": "tokens",
         "rawType": "object",
         "type": "string"
        }
       ],
       "ref": "d33f7f04-098c-42b7-bfd8-b40ef23c46d8",
       "rows": [
        [
         "0",
         "Zemen Express®",
         "ZemenExpress",
         "4150",
         "💥💥...................................💥💥\n\n📌Flame Humidifier Lamp\n\n👍የራሱ ሪሞት ያለው \n👍ከስቲም በተጨማሪ ውብ ብርሀን የሚሰጥ \n👍200ml ውሀ የመያዝ አቅም ያለው \n👍በኤሌክትሪክ የሚሰራ\n\n ዋጋ፦  💵🏷  1650ብር\n\n♦️ውስን ፍሬ ነው ያለው 🔥🔥🔥\n\n🏢 አድራሻ👉 \n📍ቁ.1️⃣♦️መገናኛ መሰረት ደፋር ሞል ሁለተኛ ፎቅ ቢሮ ቁ. S05/S06\n\n📍 ቁ.2️⃣♦️ፒያሳ ጊዮርጊስ አደባባይ ራመት_ታቦር_ኦዳ_ህንፃ 1ኛ ፎቅ ሱቅ ቁ. G1 -107\n\n\n\n     💧💧💧💧\n\n\n    📲 0902660722\n    📲 0928460606\n\n➡️🔴ፒያሳ ቅርንጫፍ 0941337070 \n\n🔖\n💬በTelegram ለማዘዝ ⤵️ ይጠቀሙ🔽\n\n@zemencallcenter \n\n@zemenexpressadmin\n\nለተጨማሪ ማብራሪያ የቴሌግራም ገፃችን⤵️\nhttps://telegram.me/zemenexpress\n\n💥💥...................................💥💥",
         "2024-03-23 09:34:00+00:00",
         null,
         "የራሱ ሪሞት ያለው ከስቲም በተጨማሪ ውብ ብርሀን የሚሰጥ 200 ውሀ የመያዝ አቅም ያለው በኤሌክትሪክ የሚሰራ ዋጋ፦ 1650ብር ውስን ፍሬ ነው ያለው አድራሻ ቁመገናኛ መሰረት ደፋር ሞል ሁለተኛ ፎቅ ቢሮ ቁ 0506 ቁፒያሳ ጊዮርጊስ አደባባይ ራመትታቦርኦዳህንፃ 1ኛ ፎቅ ሱቅ ቁ 1 107 0902660722 0928460606 ፒያሳ ቅርንጫፍ 0941337070 በ ለማዘዝ ይጠቀሙ ለተጨማሪ ማብራሪያ የቴሌግራም ገፃችን",
         "['የራሱ', 'ሪሞት', 'ያለው', 'ከስቲም', 'በተጨማሪ', 'ውብ', 'ብርሀን', 'የሚሰጥ', '200', 'ውሀ', 'የመያዝ', 'አቅም', 'ያለው', 'በኤሌክትሪክ', 'የሚሰራ', 'ዋጋ፦', '1650ብር', 'ውስን', 'ፍሬ', 'ነው', 'ያለው', 'አድራሻ', 'ቁመገናኛ', 'መሰረት', 'ደፋር', 'ሞል', 'ሁለተኛ', 'ፎቅ', 'ቢሮ', 'ቁ', '0506', 'ቁፒያሳ', 'ጊዮርጊስ', 'አደባባይ', 'ራመትታቦርኦዳህንፃ', '1ኛ', 'ፎቅ', 'ሱቅ', 'ቁ', '1', '107', '0902660722', '0928460606', 'ፒያሳ', 'ቅርንጫፍ', '0941337070', 'በ', 'ለማዘዝ', 'ይጠቀሙ', 'ለተጨማሪ', 'ማብራሪያ', 'የቴሌግራም', 'ገፃችን']"
        ],
        [
         "1",
         "qnash.com - ቅናሽ ®️",
         "qnashcom",
         "1686",
         "🤩 ታላቅ ቅናሽ 💯 🤩 \n❇️ Universal water-saving dishwasher head\n\n👉Increase water outlet pressure and rinse efficiently.\n👉360 ° rotating head\n👉100% functional !!\n\n      ዋጋ፦ 💰 ✅ 350 ብር\n\nውስን ፍሬ ነው የቀረው ❌❌\nLimited Stock ❌\n\nTelegram - t.me/qnashcom\nWebsite - www.qnash.com\n✅ ጥራት ✅ ዋስትና ✅ ቅናሽ\n❌❌ ማሳሰብያ \nሱቃችን ሲመጡ ትክክለኛ የኛ ሱቅ መሆኑ ያረጋግጡ እንዳንድ ሰወች 329 ነው እያሉ የማይሆን ዕቃ በማይሆን ዋጋ እየሸጡ ስለሆነ ጥንቃቄ አድርጉ የራሳችን ሎጎ መኖሩን እና 329 መሆኑ ያረጋግጡ\n✅ 🏬 ዘፍመሽ ግራንድ ሞል 3 ተኛ ፎቅ ከሊፍት እንደወረዱ በግራ በኩል 329 የሚል ባነር ማስታወቂያ ያያሉ ባነሩ ባለበት ዞር እንዳሉ\nስልክ:\n📱0946966440\n📱0905464599\n☎ +251118639952",
         "2022-05-31 05:56:50+00:00",
         null,
         "ታላቅ ቅናሽ 360 100 ዋጋ፦ 350 ብር ውስን ፍሬ ነው የቀረው ጥራት ዋስትና ቅናሽ ማሳሰብያ ሱቃችን ሲመጡ ትክክለኛ የኛ ሱቅ መሆኑ ያረጋግጡ እንዳንድ ሰወች 329 ነው እያሉ የማይሆን ዕቃ በማይሆን ዋጋ እየሸጡ ስለሆነ ጥንቃቄ አድርጉ የራሳችን ሎጎ መኖሩን እና 329 መሆኑ ያረጋግጡ ዘፍመሽ ግራንድ ሞል 3 ተኛ ፎቅ ከሊፍት እንደወረዱ በግራ በኩል 329 የሚል ባነር ማስታወቂያ ያያሉ ባነሩ ባለበት ዞር እንዳሉ ስልክ 0946966440 0905464599 251118639952",
         "['ታላቅ', 'ቅናሽ', '360', '100', 'ዋጋ፦', '350', 'ብር', 'ውስን', 'ፍሬ', 'ነው', 'የቀረው', 'ጥራት', 'ዋስትና', 'ቅናሽ', 'ማሳሰብያ', 'ሱቃችን', 'ሲመጡ', 'ትክክለኛ', 'የኛ', 'ሱቅ', 'መሆኑ', 'ያረጋግጡ', 'እንዳንድ', 'ሰወች', '329', 'ነው', 'እያሉ', 'የማይሆን', 'ዕቃ', 'በማይሆን', 'ዋጋ', 'እየሸጡ', 'ስለሆነ', 'ጥንቃቄ', 'አድርጉ', 'የራሳችን', 'ሎጎ', 'መኖሩን', 'እና', '329', 'መሆኑ', 'ያረጋግጡ', 'ዘፍመሽ', 'ግራንድ', 'ሞል', '3', 'ተኛ', 'ፎቅ', 'ከሊፍት', 'እንደወረዱ', 'በግራ', 'በኩል', '329', 'የሚል', 'ባነር', 'ማስታወቂያ', 'ያያሉ', 'ባነሩ', 'ባለበት', 'ዞር', 'እንዳሉ', 'ስልክ', '0946966440', '0905464599', '251118639952']"
        ],
        [
         "2",
         "Zemen Express®",
         "ZemenExpress",
         "999",
         "🎯Electric Coffee Maker\n🔰300ml የሚይዝ ለ 6 ስኒ\n\nዋጋ፦  💰🏷  1450 ብር\n\n🏢 አድራሻ👉 መገናኛ ደራርቱ ህንፃ ጎን መሰረት ደፋር ሞል ሁለተኛ ፎቅ ቢሮ ቁ. S05/S06\n\n📌🚚 ያሉበት ድረስ በነፃ እናደርሳለን 🚚\n     💧💧💧💧\n\n\n    📲 0902660722\n    📲 0928460606\n\n🔖\n💬  በTelegram ለማዘዝ ⤵️ ይጠቀሙ\n@zemencallcenter \n @zemenexpressadmin\n\nለተጨማሪ ማብራሪያ የቴሌግራም ገፃችን⤵️\nhttps://telegram.me/zemenexpress",
         "2022-02-03 08:22:27+00:00",
         "C:\\Users\\HP\\10 Acadamy PRojects\\New folder (4)\\amharic-ecommerce-scraper\\data\\downloaded_images\\ZemenExpress_999.jpg",
         "300 የሚይዝ ለ 6 ስኒ ዋጋ፦ 1450 ብር አድራሻ መገናኛ ደራርቱ ህንፃ ጎን መሰረት ደፋር ሞል ሁለተኛ ፎቅ ቢሮ ቁ 0506 ያሉበት ድረስ በነፃ እናደርሳለን 0902660722 0928460606 በ ለማዘዝ ይጠቀሙ ለተጨማሪ ማብራሪያ የቴሌግራም ገፃችን",
         "['300', 'የሚይዝ', 'ለ', '6', 'ስኒ', 'ዋጋ፦', '1450', 'ብር', 'አድራሻ', 'መገናኛ', 'ደራርቱ', 'ህንፃ', 'ጎን', 'መሰረት', 'ደፋር', 'ሞል', 'ሁለተኛ', 'ፎቅ', 'ቢሮ', 'ቁ', '0506', 'ያሉበት', 'ድረስ', 'በነፃ', 'እናደርሳለን', '0902660722', '0928460606', 'በ', 'ለማዘዝ', 'ይጠቀሙ', 'ለተጨማሪ', 'ማብራሪያ', 'የቴሌግራም', 'ገፃችን']"
        ],
        [
         "3",
         "Shewa Brand",
         "Shewabrand",
         "3710",
         "jordan 1 original 💯 \nSize 40#41#42#43\nMADE IN VIETNAM\nSHEWA BRAND\nአድራሻ ድሬዳዋ አሸዋ ሚና ህንፃ 1ኛ ፎቅ ላይ እንገኛለን \nየቴሌግራም ቻናላችንን ይቀላቀሉ\n👇👇👇\nhttps://t.me//shewabrand\nhttps://t.me//shewabrand\nhttps://t.me//shewabrand\nhttps://t.me//shewabrand\nየቤት ቁጥር 109 እና 110\n📩በ inbox  @shewat2 አዋሩን\n\n📞 0987336458\n📞0948595409 ይደውሉልን",
         "2025-06-20 06:15:40+00:00",
         "C:\\Users\\HP\\10 Acadamy PRojects\\New folder (4)\\amharic-ecommerce-scraper\\data\\downloaded_images\\Shewabrand_3710.jpg",
         "1 40414243 አድራሻ ድሬዳዋ አሸዋ ሚና ህንፃ 1ኛ ፎቅ ላይ እንገኛለን የቴሌግራም ቻናላችንን ይቀላቀሉ የቤት ቁጥር 109 እና 110 በ 2 አዋሩን 0987336458 0948595409 ይደውሉልን",
         "['1', '40414243', 'አድራሻ', 'ድሬዳዋ', 'አሸዋ', 'ሚና', 'ህንፃ', '1ኛ', 'ፎቅ', 'ላይ', 'እንገኛለን', 'የቴሌግራም', 'ቻናላችንን', 'ይቀላቀሉ', 'የቤት', 'ቁጥር', '109', 'እና', '110', 'በ', '2', 'አዋሩን', '0987336458', '0948595409', 'ይደውሉልን']"
        ],
        [
         "4",
         "qnash.com - ቅናሽ ®️",
         "qnashcom",
         "3282",
         "😃 የሸቶ መቀነሻ Mini spray pour\n\nየሸቶ መቀነሻ  👉\n\n       💵 200 ብር\n\nውስን ፍሬ ነው የቀረው ❌❌❌\n\nTelegram - t.me/qnashcom\n🔼 ጥራት ✔️ዋስትና 🛍ቅናሽ\n\n🏬 አድራሻ ፦ \nቁጥር 1 :- መገናኛ ዘፍመሽ ግራንድ ሞል 3 ተኛ ፎቅ ቁጥር 329 \n\nቁጥር 2 :- ጀሞ 1 ከለላ ህንፃ ግራውንድ ለይ G07 \n\n❌❌ ማሳሰብያ: ሱቃችን ሲመጡ ትክክለኛ የኛ ሱቅ መሆኑ ያረጋግጡ  የራሳችን ሎጎ መኖሩን እና 329 / G07 መሆኑ ያረጋግጡ !\n\nስልክ:\n📱0946966440\n📱0992606060\n📱0905464599\n☎ +251114622244",
         "2023-10-13 07:30:00+00:00",
         null,
         "የሸቶ መቀነሻ የሸቶ መቀነሻ 200 ብር ውስን ፍሬ ነው የቀረው ጥራት ዋስትና ቅናሽ አድራሻ ፦ ቁጥር 1 መገናኛ ዘፍመሽ ግራንድ ሞል 3 ተኛ ፎቅ ቁጥር 329 ቁጥር 2 ጀሞ 1 ከለላ ህንፃ ግራውንድ ለይ 07 ማሳሰብያ ሱቃችን ሲመጡ ትክክለኛ የኛ ሱቅ መሆኑ ያረጋግጡ የራሳችን ሎጎ መኖሩን እና 329 07 መሆኑ ያረጋግጡ ስልክ 0946966440 0992606060 0905464599 251114622244",
         "['የሸቶ', 'መቀነሻ', 'የሸቶ', 'መቀነሻ', '200', 'ብር', 'ውስን', 'ፍሬ', 'ነው', 'የቀረው', 'ጥራት', 'ዋስትና', 'ቅናሽ', 'አድራሻ', '፦', 'ቁጥር', '1', 'መገናኛ', 'ዘፍመሽ', 'ግራንድ', 'ሞል', '3', 'ተኛ', 'ፎቅ', 'ቁጥር', '329', 'ቁጥር', '2', 'ጀሞ', '1', 'ከለላ', 'ህንፃ', 'ግራውንድ', 'ለይ', '07', 'ማሳሰብያ', 'ሱቃችን', 'ሲመጡ', 'ትክክለኛ', 'የኛ', 'ሱቅ', 'መሆኑ', 'ያረጋግጡ', 'የራሳችን', 'ሎጎ', 'መኖሩን', 'እና', '329', '07', 'መሆኑ', 'ያረጋግጡ', 'ስልክ', '0946966440', '0992606060', '0905464599', '251114622244']"
        ]
       ],
       "shape": {
        "columns": 8,
        "rows": 5
       }
      },
      "text/html": [
       "<div>\n",
       "<style scoped>\n",
       "    .dataframe tbody tr th:only-of-type {\n",
       "        vertical-align: middle;\n",
       "    }\n",
       "\n",
       "    .dataframe tbody tr th {\n",
       "        vertical-align: top;\n",
       "    }\n",
       "\n",
       "    .dataframe thead th {\n",
       "        text-align: right;\n",
       "    }\n",
       "</style>\n",
       "<table border=\"1\" class=\"dataframe\">\n",
       "  <thead>\n",
       "    <tr style=\"text-align: right;\">\n",
       "      <th></th>\n",
       "      <th>Channel Title</th>\n",
       "      <th>Channel Handle</th>\n",
       "      <th>Message ID</th>\n",
       "      <th>Content</th>\n",
       "      <th>Timestamp</th>\n",
       "      <th>Media File</th>\n",
       "      <th>clean_text</th>\n",
       "      <th>tokens</th>\n",
       "    </tr>\n",
       "  </thead>\n",
       "  <tbody>\n",
       "    <tr>\n",
       "      <th>0</th>\n",
       "      <td>Zemen Express®</td>\n",
       "      <td>ZemenExpress</td>\n",
       "      <td>4150</td>\n",
       "      <td>💥💥...................................💥💥\\n\\n📌Fl...</td>\n",
       "      <td>2024-03-23 09:34:00+00:00</td>\n",
       "      <td>NaN</td>\n",
       "      <td>የራሱ ሪሞት ያለው ከስቲም በተጨማሪ ውብ ብርሀን የሚሰጥ 200 ውሀ የመያ...</td>\n",
       "      <td>['የራሱ', 'ሪሞት', 'ያለው', 'ከስቲም', 'በተጨማሪ', 'ውብ', '...</td>\n",
       "    </tr>\n",
       "    <tr>\n",
       "      <th>1</th>\n",
       "      <td>qnash.com - ቅናሽ ®️</td>\n",
       "      <td>qnashcom</td>\n",
       "      <td>1686</td>\n",
       "      <td>🤩 ታላቅ ቅናሽ 💯 🤩 \\n❇️ Universal water-saving dish...</td>\n",
       "      <td>2022-05-31 05:56:50+00:00</td>\n",
       "      <td>NaN</td>\n",
       "      <td>ታላቅ ቅናሽ 360 100 ዋጋ፦ 350 ብር ውስን ፍሬ ነው የቀረው ጥራት ...</td>\n",
       "      <td>['ታላቅ', 'ቅናሽ', '360', '100', 'ዋጋ፦', '350', 'ብር...</td>\n",
       "    </tr>\n",
       "    <tr>\n",
       "      <th>2</th>\n",
       "      <td>Zemen Express®</td>\n",
       "      <td>ZemenExpress</td>\n",
       "      <td>999</td>\n",
       "      <td>🎯Electric Coffee Maker\\n🔰300ml የሚይዝ ለ 6 ስኒ\\n\\n...</td>\n",
       "      <td>2022-02-03 08:22:27+00:00</td>\n",
       "      <td>C:\\Users\\HP\\10 Acadamy PRojects\\New folder (4)...</td>\n",
       "      <td>300 የሚይዝ ለ 6 ስኒ ዋጋ፦ 1450 ብር አድራሻ መገናኛ ደራርቱ ህንፃ...</td>\n",
       "      <td>['300', 'የሚይዝ', 'ለ', '6', 'ስኒ', 'ዋጋ፦', '1450',...</td>\n",
       "    </tr>\n",
       "    <tr>\n",
       "      <th>3</th>\n",
       "      <td>Shewa Brand</td>\n",
       "      <td>Shewabrand</td>\n",
       "      <td>3710</td>\n",
       "      <td>jordan 1 original 💯 \\nSize 40#41#42#43\\nMADE I...</td>\n",
       "      <td>2025-06-20 06:15:40+00:00</td>\n",
       "      <td>C:\\Users\\HP\\10 Acadamy PRojects\\New folder (4)...</td>\n",
       "      <td>1 40414243 አድራሻ ድሬዳዋ አሸዋ ሚና ህንፃ 1ኛ ፎቅ ላይ እንገኛለ...</td>\n",
       "      <td>['1', '40414243', 'አድራሻ', 'ድሬዳዋ', 'አሸዋ', 'ሚና',...</td>\n",
       "    </tr>\n",
       "    <tr>\n",
       "      <th>4</th>\n",
       "      <td>qnash.com - ቅናሽ ®️</td>\n",
       "      <td>qnashcom</td>\n",
       "      <td>3282</td>\n",
       "      <td>😃 የሸቶ መቀነሻ Mini spray pour\\n\\nየሸቶ መቀነሻ  👉\\n\\n ...</td>\n",
       "      <td>2023-10-13 07:30:00+00:00</td>\n",
       "      <td>NaN</td>\n",
       "      <td>የሸቶ መቀነሻ የሸቶ መቀነሻ 200 ብር ውስን ፍሬ ነው የቀረው ጥራት ዋስ...</td>\n",
       "      <td>['የሸቶ', 'መቀነሻ', 'የሸቶ', 'መቀነሻ', '200', 'ብር', 'ው...</td>\n",
       "    </tr>\n",
       "  </tbody>\n",
       "</table>\n",
       "</div>"
      ],
      "text/plain": [
       "        Channel Title Channel Handle  Message ID  \\\n",
       "0      Zemen Express®   ZemenExpress        4150   \n",
       "1  qnash.com - ቅናሽ ®️       qnashcom        1686   \n",
       "2      Zemen Express®   ZemenExpress         999   \n",
       "3         Shewa Brand     Shewabrand        3710   \n",
       "4  qnash.com - ቅናሽ ®️       qnashcom        3282   \n",
       "\n",
       "                                             Content  \\\n",
       "0  💥💥...................................💥💥\\n\\n📌Fl...   \n",
       "1  🤩 ታላቅ ቅናሽ 💯 🤩 \\n❇️ Universal water-saving dish...   \n",
       "2  🎯Electric Coffee Maker\\n🔰300ml የሚይዝ ለ 6 ስኒ\\n\\n...   \n",
       "3  jordan 1 original 💯 \\nSize 40#41#42#43\\nMADE I...   \n",
       "4  😃 የሸቶ መቀነሻ Mini spray pour\\n\\nየሸቶ መቀነሻ  👉\\n\\n ...   \n",
       "\n",
       "                   Timestamp  \\\n",
       "0  2024-03-23 09:34:00+00:00   \n",
       "1  2022-05-31 05:56:50+00:00   \n",
       "2  2022-02-03 08:22:27+00:00   \n",
       "3  2025-06-20 06:15:40+00:00   \n",
       "4  2023-10-13 07:30:00+00:00   \n",
       "\n",
       "                                          Media File  \\\n",
       "0                                                NaN   \n",
       "1                                                NaN   \n",
       "2  C:\\Users\\HP\\10 Acadamy PRojects\\New folder (4)...   \n",
       "3  C:\\Users\\HP\\10 Acadamy PRojects\\New folder (4)...   \n",
       "4                                                NaN   \n",
       "\n",
       "                                          clean_text  \\\n",
       "0  የራሱ ሪሞት ያለው ከስቲም በተጨማሪ ውብ ብርሀን የሚሰጥ 200 ውሀ የመያ...   \n",
       "1  ታላቅ ቅናሽ 360 100 ዋጋ፦ 350 ብር ውስን ፍሬ ነው የቀረው ጥራት ...   \n",
       "2  300 የሚይዝ ለ 6 ስኒ ዋጋ፦ 1450 ብር አድራሻ መገናኛ ደራርቱ ህንፃ...   \n",
       "3  1 40414243 አድራሻ ድሬዳዋ አሸዋ ሚና ህንፃ 1ኛ ፎቅ ላይ እንገኛለ...   \n",
       "4  የሸቶ መቀነሻ የሸቶ መቀነሻ 200 ብር ውስን ፍሬ ነው የቀረው ጥራት ዋስ...   \n",
       "\n",
       "                                              tokens  \n",
       "0  ['የራሱ', 'ሪሞት', 'ያለው', 'ከስቲም', 'በተጨማሪ', 'ውብ', '...  \n",
       "1  ['ታላቅ', 'ቅናሽ', '360', '100', 'ዋጋ፦', '350', 'ብር...  \n",
       "2  ['300', 'የሚይዝ', 'ለ', '6', 'ስኒ', 'ዋጋ፦', '1450',...  \n",
       "3  ['1', '40414243', 'አድራሻ', 'ድሬዳዋ', 'አሸዋ', 'ሚና',...  \n",
       "4  ['የሸቶ', 'መቀነሻ', 'የሸቶ', 'መቀነሻ', '200', 'ብር', 'ው...  "
      ]
     },
     "execution_count": 19,
     "metadata": {},
     "output_type": "execute_result"
    }
   ],
   "source": [
    "df = pd.read_csv(\"C:/Users/HP/10 Acadamy PRojects/New folder (4)/amharic-ecommerce-scraper/data/ner_labeling_sample.csv\")\n",
    "df.head()"
   ]
  },
  {
   "cell_type": "code",
   "execution_count": null,
   "id": "e2e4130d",
   "metadata": {},
   "outputs": [],
   "source": []
  },
  {
   "cell_type": "code",
   "execution_count": null,
   "id": "d69defe8",
   "metadata": {},
   "outputs": [],
   "source": []
  },
  {
   "cell_type": "code",
   "execution_count": null,
   "id": "7963671a",
   "metadata": {},
   "outputs": [],
   "source": []
  }
 ],
 "metadata": {
  "kernelspec": {
   "display_name": ".venv",
   "language": "python",
   "name": "python3"
  },
  "language_info": {
   "codemirror_mode": {
    "name": "ipython",
    "version": 3
   },
   "file_extension": ".py",
   "mimetype": "text/x-python",
   "name": "python",
   "nbconvert_exporter": "python",
   "pygments_lexer": "ipython3",
   "version": "3.13.4"
  }
 },
 "nbformat": 4,
 "nbformat_minor": 5
}
